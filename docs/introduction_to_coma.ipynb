{
 "metadata": {
  "name": ""
 },
 "nbformat": 3,
 "nbformat_minor": 0,
 "worksheets": [
  {
   "cells": [
    {
     "cell_type": "heading",
     "level": 1,
     "metadata": {},
     "source": [
      "Introduction to Coma"
     ]
    },
    {
     "cell_type": "code",
     "collapsed": false,
     "input": [
      "import numpy as np\n",
      "import coma\n",
      "print('Coma version: ' + coma.__version__)"
     ],
     "language": "python",
     "metadata": {},
     "outputs": [
      {
       "output_type": "stream",
       "stream": "stdout",
       "text": [
        "Coma version: 2.0.0-beta.2.5.g41bdbf9\n"
       ]
      }
     ],
     "prompt_number": 16
    },
    {
     "cell_type": "code",
     "collapsed": false,
     "input": [
      "coma.create_default_config()"
     ],
     "language": "python",
     "metadata": {},
     "outputs": [
      {
       "output_type": "stream",
       "stream": "stdout",
       "text": [
        "Config file \"/Users/burkhard/.config/coma/preferences.conf\" already exists\n",
        "Experiment index \"/Users/burkhard/.config/coma/experiment.index\" already exists\n"
       ]
      }
     ],
     "prompt_number": 2
    },
    {
     "cell_type": "code",
     "collapsed": false,
     "input": [
      "e = coma.Experiment('example_experiment')\n",
      "e.reset()\n",
      "!ls example_experiment/"
     ],
     "language": "python",
     "metadata": {},
     "outputs": [
      {
       "output_type": "stream",
       "stream": "stdout",
       "text": [
        "experiment.000025.json measurement.index.json\r\n"
       ]
      }
     ],
     "prompt_number": 112
    },
    {
     "cell_type": "code",
     "collapsed": false,
     "input": [
      "e.define_parameter_set(('theta_0','parameters/theta_0'),('theta','parameters/theta'))\n",
      "for theta_0 in [-5.0,-30.0,-60.0]:\n",
      "    for theta in np.linspace(theta_0,-theta_0,20):\n",
      "        e.add_parameter_set(theta_0,round(theta,4))"
     ],
     "language": "python",
     "metadata": {},
     "outputs": [],
     "prompt_number": 113
    },
    {
     "cell_type": "code",
     "collapsed": false,
     "input": [
      "print(e.pset_definition)\n",
      "print(e.psets)"
     ],
     "language": "python",
     "metadata": {},
     "outputs": [
      {
       "output_type": "stream",
       "stream": "stdout",
       "text": [
        "OrderedDict([('theta_0', 'parameters/theta_0'), ('theta', 'parameters/theta')])\n",
        "[(-5.0, -5.0), (-5.0, -4.4737), (-5.0, -3.9474), (-5.0, -3.4211), (-5.0, -2.8947), (-5.0, -2.3684), (-5.0, -1.8421), (-5.0, -1.3158), (-5.0, -0.7895), (-5.0, -0.2632), (-5.0, 0.2632), (-5.0, 0.7895), (-5.0, 1.3158), (-5.0, 1.8421), (-5.0, 2.3684), (-5.0, 2.8947), (-5.0, 3.4211), (-5.0, 3.9474), (-5.0, 4.4737), (-5.0, 5.0), (-30.0, -30.0), (-30.0, -26.8421), (-30.0, -23.6842), (-30.0, -20.5263), (-30.0, -17.3684), (-30.0, -14.2105), (-30.0, -11.0526), (-30.0, -7.8947), (-30.0, -4.7368), (-30.0, -1.5789), (-30.0, 1.5789), (-30.0, 4.7368), (-30.0, 7.8947), (-30.0, 11.0526), (-30.0, 14.2105), (-30.0, 17.3684), (-30.0, 20.5263), (-30.0, 23.6842), (-30.0, 26.8421), (-30.0, 30.0), (-60.0, -60.0), (-60.0, -53.6842), (-60.0, -47.3684), (-60.0, -41.0526), (-60.0, -34.7368), (-60.0, -28.4211), (-60.0, -22.1053), (-60.0, -15.7895), (-60.0, -9.4737), (-60.0, -3.1579), (-60.0, 3.1579), (-60.0, 9.4737), (-60.0, 15.7895), (-60.0, 22.1053), (-60.0, 28.4211), (-60.0, 34.7368), (-60.0, 41.0526), (-60.0, 47.3684), (-60.0, 53.6842), (-60.0, 60.0)]\n"
       ]
      }
     ],
     "prompt_number": 88
    },
    {
     "cell_type": "code",
     "collapsed": false,
     "input": [
      "e.clear_parameter_sets()"
     ],
     "language": "python",
     "metadata": {},
     "outputs": [],
     "prompt_number": 85
    },
    {
     "cell_type": "code",
     "collapsed": false,
     "input": [
      "e.reset()"
     ],
     "language": "python",
     "metadata": {},
     "outputs": [],
     "prompt_number": 111
    },
    {
     "cell_type": "code",
     "collapsed": false,
     "input": [
      "from collections import OrderedDict\n",
      "import scipy.constants as const\n",
      "\n",
      "def run_it(p):\n",
      "    #print('Computing parameter set {}'.format(p))\n",
      "    \n",
      "    f = lambda theta_,theta_0: 1/math.sqrt( math.cos(theta_) - math.cos(theta_0) )\n",
      "    F = lambda theta_0,theta: scipy.integrate.quad(f, theta_0, theta, (theta_0,)) if theta!=theta_0 else (0,0)\n",
      "    t = lambda theta_0,theta,g,L: math.sqrt(L/(2*g)) * F(theta_0*math.pi/180,theta*math.pi/180)[0]\n",
      "    t_ = lambda theta_0,theta,g,L: math.sqrt(L/g) * math.acos(theta/theta_0)\n",
      "    \n",
      "    g = const.g\n",
      "    L = 1.0\n",
      "    time = t(p.theta_0, p.theta, g, L)\n",
      "    time_ = t_(p.theta_0, p.theta, g, L)\n",
      "    \n",
      "    ps = OrderedDict()\n",
      "    ps['theta_0'] = p.theta_0\n",
      "    ps['theta'] = p.theta\n",
      "    ps['L'] = L\n",
      "    \n",
      "    rs = OrderedDict()\n",
      "    rs['t'] = time\n",
      "    rs['t_'] = time_\n",
      "    \n",
      "    o = OrderedDict()\n",
      "    o['parameters'] = ps\n",
      "    o['results'] = rs\n",
      "    \n",
      "    return o"
     ],
     "language": "python",
     "metadata": {},
     "outputs": [],
     "prompt_number": 102
    },
    {
     "cell_type": "code",
     "collapsed": false,
     "input": [
      "e.run(run_it)"
     ],
     "language": "python",
     "metadata": {},
     "outputs": [
      {
       "metadata": {},
       "output_type": "pyout",
       "prompt_number": 103,
       "text": [
        "(60, 60)"
       ]
      }
     ],
     "prompt_number": 103
    },
    {
     "cell_type": "code",
     "collapsed": false,
     "input": [
      "e.run(run_it)"
     ],
     "language": "python",
     "metadata": {},
     "outputs": [
      {
       "metadata": {},
       "output_type": "pyout",
       "prompt_number": 104,
       "text": [
        "(0, 60)"
       ]
      }
     ],
     "prompt_number": 104
    },
    {
     "cell_type": "code",
     "collapsed": false,
     "input": [
      "e.number_of_measurements()"
     ],
     "language": "python",
     "metadata": {},
     "outputs": [
      {
       "metadata": {},
       "output_type": "pyout",
       "prompt_number": 110,
       "text": [
        "60"
       ]
      }
     ],
     "prompt_number": 110
    },
    {
     "cell_type": "code",
     "collapsed": false,
     "input": [
      "!ls example_experiment/"
     ],
     "language": "python",
     "metadata": {},
     "outputs": [
      {
       "output_type": "stream",
       "stream": "stdout",
       "text": [
        "experiment.000025.json  measurement.000016.json measurement.000032.json measurement.000048.json\r\n",
        "measurement.000001.json measurement.000017.json measurement.000033.json measurement.000049.json\r\n",
        "measurement.000002.json measurement.000018.json measurement.000034.json measurement.000050.json\r\n",
        "measurement.000003.json measurement.000019.json measurement.000035.json measurement.000051.json\r\n",
        "measurement.000004.json measurement.000020.json measurement.000036.json measurement.000052.json\r\n",
        "measurement.000005.json measurement.000021.json measurement.000037.json measurement.000053.json\r\n",
        "measurement.000006.json measurement.000022.json measurement.000038.json measurement.000054.json\r\n",
        "measurement.000007.json measurement.000023.json measurement.000039.json measurement.000055.json\r\n",
        "measurement.000008.json measurement.000024.json measurement.000040.json measurement.000056.json\r\n",
        "measurement.000009.json measurement.000025.json measurement.000041.json measurement.000057.json\r\n",
        "measurement.000010.json measurement.000026.json measurement.000042.json measurement.000058.json\r\n",
        "measurement.000011.json measurement.000027.json measurement.000043.json measurement.000059.json\r\n",
        "measurement.000012.json measurement.000028.json measurement.000044.json measurement.000060.json\r\n",
        "measurement.000013.json measurement.000029.json measurement.000045.json measurement.index.json\r\n",
        "measurement.000014.json measurement.000030.json measurement.000046.json\r\n",
        "measurement.000015.json measurement.000031.json measurement.000047.json\r\n"
       ]
      }
     ],
     "prompt_number": 105
    },
    {
     "cell_type": "code",
     "collapsed": false,
     "input": [
      "!cat example_experiment/measurement.000001.json"
     ],
     "language": "python",
     "metadata": {},
     "outputs": [
      {
       "output_type": "stream",
       "stream": "stdout",
       "text": [
        "{\"measurement\":{\"info\":{\"measurement_id\":1,\"start_date\":\"2014-02-15T02:58:23Z\",\"end_date\":\"2014-02-15T02:58:23Z\"},\"parameters\":{\"theta_0\":-5.0,\"theta\":-5.0,\"L\":1.0},\"results\":{\"t\":0.0,\"t_\":0.0}}}"
       ]
      }
     ],
     "prompt_number": 106
    },
    {
     "cell_type": "code",
     "collapsed": false,
     "input": [
      "# Explain: Why one file per measurement\n",
      "# run_it should return a nested dictionary => a tree"
     ],
     "language": "python",
     "metadata": {},
     "outputs": []
    },
    {
     "cell_type": "code",
     "collapsed": false,
     "input": [
      "# Next: use a Simulation class, with coma_getstate function"
     ],
     "language": "python",
     "metadata": {},
     "outputs": []
    },
    {
     "cell_type": "code",
     "collapsed": false,
     "input": [
      "for m in e.measurements():\n",
      "    if m.id > 3:\n",
      "        break\n",
      "    print(m)\n",
      "    print('theta_0 = {:.2f}, theta = {:.2f}, t = {:.2f}'.format(m['parameters']['theta_0'],\n",
      "                                                    m['parameters']['theta'],\n",
      "                                                    m['results']['t']))\n",
      "    print('theta_0 = {:.2f}, theta = {:.2f}, t = {:.2f}'.format(m['parameters/theta_0'],\n",
      "                                                    m['parameters/theta'],\n",
      "                                                    m['results/t']))\n",
      "    print('theta_0 = {:.2f}, theta = {:.2f}, t = {:.2f}'.format(m.parameters.theta_0,\n",
      "                                                    m.parameters.theta,\n",
      "                                                    m.results.t))\n",
      "    print('\\n')"
     ],
     "language": "python",
     "metadata": {},
     "outputs": [
      {
       "output_type": "stream",
       "stream": "stdout",
       "text": [
        "Measurement 2\n",
        "  program: pendulum\n",
        "  version: 0.0.1\n",
        "  start_date: 2014-02-15T03:09:42Z\n",
        "  end_date: 2014-02-15T03:09:42Z\n",
        "  Fields: [u'info', u'parameters', u'results', u'__class__']\n",
        "\n",
        "theta_0 = -5.00, theta = -5.00, t = 0.00\n",
        "theta_0 = -5.00, theta = -5.00, t = 0.00\n",
        "theta_0 = -5.00, theta = -5.00, t = 0.00\n",
        "\n",
        "\n",
        "Measurement 3\n",
        "  program: pendulum\n",
        "  version: 0.0.1\n",
        "  start_date: 2014-02-15T03:09:42Z\n",
        "  end_date: 2014-02-15T03:09:42Z\n",
        "  Fields: [u'info', u'parameters', u'results', u'__class__']\n",
        "\n",
        "theta_0 = -5.00, theta = -4.47, t = 0.15\n",
        "theta_0 = -5.00, theta = -4.47, t = 0.15\n",
        "theta_0 = -5.00, theta = -4.47, t = 0.15\n",
        "\n",
        "\n"
       ]
      }
     ],
     "prompt_number": 122
    },
    {
     "cell_type": "code",
     "collapsed": false,
     "input": [
      "table_def = [('theta','parameters/theta'),('t','results/t'),('t_','results/t_')]\n",
      "p_def = [('theta_0','parameters/theta_0')]\n",
      "rs = e.retrieve_results(table_def, p_def)\n",
      "rs"
     ],
     "language": "python",
     "metadata": {},
     "outputs": [
      {
       "metadata": {},
       "output_type": "pyout",
       "prompt_number": 123,
       "text": [
        "[Result((theta,t,t_),(theta_0=-5.0)),\n",
        " Result((theta,t,t_),(theta_0=-30.0)),\n",
        " Result((theta,t,t_),(theta_0=-60.0))]"
       ]
      }
     ],
     "prompt_number": 123
    },
    {
     "cell_type": "code",
     "collapsed": false,
     "input": [
      "r = rs[0]\n",
      "print(r.parameters)\n",
      "print(r.parameters.theta_0)\n",
      "print(r.table_columns)\n",
      "print(r.table.shape)"
     ],
     "language": "python",
     "metadata": {},
     "outputs": [
      {
       "output_type": "stream",
       "stream": "stdout",
       "text": [
        "(theta_0=-5.0)\n",
        "-5.0\n",
        "('theta', 't', 't_')\n",
        "(20, 3)\n"
       ]
      }
     ],
     "prompt_number": 124
    },
    {
     "cell_type": "code",
     "collapsed": false,
     "input": [
      "for r in rs['theta_0',-5.0]:\n",
      "    print(r)\n",
      "# can also chain filters... e.g. rs['theta_0',-5.0]['L',1.0]"
     ],
     "language": "python",
     "metadata": {},
     "outputs": [
      {
       "output_type": "stream",
       "stream": "stdout",
       "text": [
        "Result((theta,t,t_),(theta_0=-5.0))\n"
       ]
      }
     ],
     "prompt_number": 125
    },
    {
     "cell_type": "code",
     "collapsed": false,
     "input": [
      "%matplotlib inline\n",
      "\n",
      "rows,cols = (1,3)\n",
      "fig = plt.figure(figsize=(5.3*cols,5*rows))\n",
      "i_p = 0\n",
      "\n",
      "for r in rs:\n",
      "    i_p += 1\n",
      "    p = fig.add_subplot(rows,cols,i_p)\n",
      "    p.plot(r.table[:,1],r.table[:,0],label='Exact')\n",
      "    p.plot(r.table[:,2],r.table[:,0],label='Approximative')\n",
      "    p.set_xlabel('time (s)')\n",
      "    p.set_ylabel('angle ($^\\circ$)')\n",
      "    p.legend(loc='upper left')\n",
      "    p.text(0.98,0.02,'$\\\\theta_0 = {:.2f}$'.format(r.parameters.theta_0),\n",
      "           fontsize='14', verticalalignment='bottom',\n",
      "           horizontalalignment='right', transform=p.transAxes)\n",
      "fig.subplots_adjust(wspace=0.3)"
     ],
     "language": "python",
     "metadata": {},
     "outputs": [
      {
       "metadata": {},
       "output_type": "display_data",
       "png": "[encoded data removed]",
       "text": [
        "<matplotlib.figure.Figure at 0x10671ff10>"
       ]
      }
     ],
     "prompt_number": 126
    },
    {
     "cell_type": "code",
     "collapsed": false,
     "input": [
      "print(e.isactive())\n",
      "e.deactivate()\n",
      "# e.activate()\n",
      "!ls example_experiment/"
     ],
     "language": "python",
     "metadata": {},
     "outputs": [
      {
       "output_type": "stream",
       "stream": "stdout",
       "text": [
        "True\n",
        "experiment.000025.json\r\n"
       ]
      }
     ],
     "prompt_number": 98
    },
    {
     "cell_type": "code",
     "collapsed": false,
     "input": [
      "e.activate()"
     ],
     "language": "python",
     "metadata": {},
     "outputs": [],
     "prompt_number": 99
    },
    {
     "cell_type": "code",
     "collapsed": false,
     "input": [
      "from collections import OrderedDict\n",
      "import scipy.constants as const\n",
      "\n",
      "class Pendulum:\n",
      "    def __init__(self):\n",
      "        self.program = 'pendulum'\n",
      "        self.version = '0.0.1'\n",
      "        self.g = const.g\n",
      "        self.L = 1.0\n",
      "        self.theta_0 = None\n",
      "        self.theta = None\n",
      "        self.t = None\n",
      "        self.t_ = None\n",
      "    \n",
      "    def init(self):\n",
      "        pass\n",
      "    \n",
      "    def run(self):\n",
      "        f = lambda theta_,theta_0: 1/math.sqrt( math.cos(theta_) - math.cos(theta_0) )\n",
      "        F = lambda theta_0,theta: scipy.integrate.quad(f, theta_0, theta, (theta_0,)) if theta!=theta_0 else (0,0)\n",
      "        t = lambda theta_0,theta,g,L: math.sqrt(L/(2*g)) * F(theta_0*math.pi/180,theta*math.pi/180)[0]\n",
      "        t_ = lambda theta_0,theta,g,L: math.sqrt(L/g) * math.acos(theta/theta_0)\n",
      "        \n",
      "        self.t = t(self.theta_0, self.theta, self.g, self.L)\n",
      "        self.t_ = t_(self.theta_0, self.theta, self.g, self.L)\n",
      "    \n",
      "    def coma_getstate(self):\n",
      "        ps = OrderedDict()\n",
      "        ps['theta_0'] = self.theta_0\n",
      "        ps['theta'] = self.theta\n",
      "        ps['L'] = self.L\n",
      "        \n",
      "        rs = OrderedDict()\n",
      "        rs['t'] = self.t\n",
      "        rs['t_'] = self.t_\n",
      "        \n",
      "        o = OrderedDict()\n",
      "        o['parameters'] = ps\n",
      "        o['results'] = rs\n",
      "        \n",
      "        return o\n",
      "\n",
      "def run_it(p):\n",
      "    s = Pendulum()\n",
      "    s.theta_0 = p.theta_0\n",
      "    s.theta = p.theta\n",
      "    s.init()\n",
      "    s.run()   \n",
      "    return s\n",
      "\n",
      "# program and version will be saved to the measurement file\n",
      "# coma_getstate can return objects that implement coma_getstate -- they will get serialized"
     ],
     "language": "python",
     "metadata": {},
     "outputs": [],
     "prompt_number": 117
    },
    {
     "cell_type": "code",
     "collapsed": false,
     "input": [
      "e.number_of_measurements()"
     ],
     "language": "python",
     "metadata": {},
     "outputs": [
      {
       "metadata": {},
       "output_type": "pyout",
       "prompt_number": 118,
       "text": [
        "0"
       ]
      }
     ],
     "prompt_number": 118
    },
    {
     "cell_type": "code",
     "collapsed": false,
     "input": [
      "e.run(run_it)"
     ],
     "language": "python",
     "metadata": {},
     "outputs": [
      {
       "metadata": {},
       "output_type": "pyout",
       "prompt_number": 120,
       "text": [
        "(0, 60)"
       ]
      }
     ],
     "prompt_number": 120
    },
    {
     "cell_type": "code",
     "collapsed": false,
     "input": [
      "!cat example_experiment/measurement.000002.json"
     ],
     "language": "python",
     "metadata": {},
     "outputs": [
      {
       "output_type": "stream",
       "stream": "stdout",
       "text": [
        "{\"measurement\":{\"info\":{\"measurement_id\":2,\"start_date\":\"2014-02-15T03:09:42Z\",\"end_date\":\"2014-02-15T03:09:42Z\",\"program\":\"pendulum\",\"version\":\"0.0.1\"},\"parameters\":{\"theta_0\":-5.0,\"theta\":-5.0,\"L\":1.0},\"results\":{\"t\":0.0,\"t_\":0.0},\"__class__\":\"__main__.Pendulum\"}}"
       ]
      }
     ],
     "prompt_number": 121
    },
    {
     "cell_type": "markdown",
     "metadata": {},
     "source": [
      "Explain or at least mention ParallelExperiment; that we are compatible with Boost serialization (XML); ability to serialize numpy arrays; \"unfolding\" of arrays for result table"
     ]
    },
    {
     "cell_type": "code",
     "collapsed": false,
     "input": [],
     "language": "python",
     "metadata": {},
     "outputs": []
    }
   ],
   "metadata": {}
  }
 ]
}