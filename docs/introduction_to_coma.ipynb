{
 "metadata": {
  "name": ""
 },
 "nbformat": 3,
 "nbformat_minor": 0,
 "worksheets": [
  {
   "cells": [
    {
     "cell_type": "code",
     "collapsed": false,
     "input": [
      "import numpy as np\n",
      "import coma\n",
      "print('Coma version: ' + coma.__version__)"
     ],
     "language": "python",
     "metadata": {},
     "outputs": [
      {
       "output_type": "stream",
       "stream": "stdout",
       "text": [
        "Coma version: 2.0.0-beta.2.4.gf7a1aae.dirty\n"
       ]
      }
     ],
     "prompt_number": 1
    },
    {
     "cell_type": "code",
     "collapsed": false,
     "input": [
      "coma.create_default_config()"
     ],
     "language": "python",
     "metadata": {},
     "outputs": [
      {
       "output_type": "stream",
       "stream": "stdout",
       "text": [
        "Creating directory /home/burkhard/.config/coma\n",
        "Creating config file \"/home/burkhard/.config/coma/preferences.conf\"\n",
        "Creating experiment index \"/home/burkhard/.config/coma/experiment.index\"\n"
       ]
      }
     ],
     "prompt_number": 3
    },
    {
     "cell_type": "code",
     "collapsed": false,
     "input": [
      "e = coma.Experiment('example_experiment')\n",
      "e.reset()\n",
      "!ls example_experiment/"
     ],
     "language": "python",
     "metadata": {},
     "outputs": [
      {
       "output_type": "stream",
       "stream": "stdout",
       "text": [
        "experiment.000001.json\tmeasurement.index.json\r\n"
       ]
      }
     ],
     "prompt_number": 29
    },
    {
     "cell_type": "code",
     "collapsed": false,
     "input": [
      "e.define_parameter_set(('N','parameters/N'),('P','parameters/P'))\n",
      "for N in [1,2]:\n",
      "    for P in np.linspace(1,2,3):\n",
      "        e.add_parameter_set(N,P)"
     ],
     "language": "python",
     "metadata": {},
     "outputs": [],
     "prompt_number": 30
    },
    {
     "cell_type": "code",
     "collapsed": false,
     "input": [
      "print(e.pset_definition)\n",
      "print(e.psets)"
     ],
     "language": "python",
     "metadata": {},
     "outputs": [
      {
       "output_type": "stream",
       "stream": "stdout",
       "text": [
        "OrderedDict([('N', 'parameters/N'), ('P', 'parameters/P')])\n",
        "[(1, 1.0), (1, 1.5), (1, 2.0), (2, 1.0), (2, 1.5), (2, 2.0)]\n"
       ]
      }
     ],
     "prompt_number": 31
    },
    {
     "cell_type": "code",
     "collapsed": false,
     "input": [
      "#e.clear_parameter_sets()"
     ],
     "language": "python",
     "metadata": {},
     "outputs": [],
     "prompt_number": 20
    },
    {
     "cell_type": "code",
     "collapsed": false,
     "input": [
      "from collections import OrderedDict\n",
      "def run_it(parameter_set):\n",
      "    print('Computing parameter set {}'.format(parameter_set))\n",
      "    r = 10*parameter_set.N + parameter_set.P\n",
      "    o = OrderedDict()\n",
      "    o['result'] = r\n",
      "    return o"
     ],
     "language": "python",
     "metadata": {},
     "outputs": [],
     "prompt_number": 32
    },
    {
     "cell_type": "code",
     "collapsed": false,
     "input": [
      "e.run(run_it)"
     ],
     "language": "python",
     "metadata": {},
     "outputs": [
      {
       "output_type": "stream",
       "stream": "stdout",
       "text": [
        "Computing parameter set (N=1,P=1.0)\n",
        "Computing parameter set (N=1,P=1.5)\n",
        "Computing parameter set (N=1,P=2.0)"
       ]
      },
      {
       "output_type": "stream",
       "stream": "stdout",
       "text": [
        "\n",
        "Computing parameter set (N=2,P=1.0)\n",
        "Computing parameter set (N=2,P=1.5)"
       ]
      },
      {
       "output_type": "stream",
       "stream": "stdout",
       "text": [
        "\n",
        "Computing parameter set (N=2,P=2.0)\n"
       ]
      },
      {
       "metadata": {},
       "output_type": "pyout",
       "prompt_number": 33,
       "text": [
        "(6, 6)"
       ]
      }
     ],
     "prompt_number": 33
    },
    {
     "cell_type": "code",
     "collapsed": false,
     "input": [
      "!ls example_experiment/"
     ],
     "language": "python",
     "metadata": {},
     "outputs": [
      {
       "output_type": "stream",
       "stream": "stdout",
       "text": [
        "experiment.000001.json\t measurement.000002.json  measurement.000004.json  measurement.000006.json\r\n",
        "measurement.000001.json  measurement.000003.json  measurement.000005.json  measurement.index.json\r\n"
       ]
      }
     ],
     "prompt_number": 34
    },
    {
     "cell_type": "code",
     "collapsed": false,
     "input": [
      "!cat example_experiment/measurement.000001.json"
     ],
     "language": "python",
     "metadata": {},
     "outputs": [
      {
       "output_type": "stream",
       "stream": "stdout",
       "text": [
        "{\r\n",
        "  \"measurement\": {\r\n",
        "    \"info\": {\r\n",
        "      \"measurement_id\": 1,\r\n",
        "      \"start_date\": \"2014-02-11T17:18:11Z\",\r\n",
        "      \"end_date\": \"2014-02-11T17:18:11Z\"\r\n",
        "    },\r\n",
        "    \"result\": 11.0\r\n",
        "  }\r\n",
        "}"
       ]
      }
     ],
     "prompt_number": 35
    },
    {
     "cell_type": "code",
     "collapsed": false,
     "input": [
      "# Explain: Why one file per measurement\n",
      "# run_it should return a nested dictionary => a tree"
     ],
     "language": "python",
     "metadata": {},
     "outputs": []
    },
    {
     "cell_type": "code",
     "collapsed": false,
     "input": [
      "# Next: use a Simulation class, with coma_getstate function"
     ],
     "language": "python",
     "metadata": {},
     "outputs": []
    },
    {
     "cell_type": "code",
     "collapsed": false,
     "input": [
      "# TODO: What would be a nice simple example?\n",
      "import scipy.integrate\n",
      "import math"
     ],
     "language": "python",
     "metadata": {},
     "outputs": [],
     "prompt_number": 16
    },
    {
     "cell_type": "code",
     "collapsed": false,
     "input": [
      "#scipy.integrate.quad(lambda x: math.sin(x)**2, 0, 2*math.pi)"
     ],
     "language": "python",
     "metadata": {},
     "outputs": [
      {
       "metadata": {},
       "output_type": "pyout",
       "prompt_number": 17,
       "text": [
        "(3.141592653589793, 2.3058791671639882e-09)"
       ]
      }
     ],
     "prompt_number": 17
    },
    {
     "cell_type": "code",
     "collapsed": false,
     "input": [],
     "language": "python",
     "metadata": {},
     "outputs": []
    }
   ],
   "metadata": {}
  }
 ]
}